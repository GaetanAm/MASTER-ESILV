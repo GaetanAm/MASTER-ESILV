{
  "nbformat": 4,
  "nbformat_minor": 0,
  "metadata": {
    "colab": {
      "provenance": [],
      "authorship_tag": "ABX9TyOGDc4Mmz6/MdZ+wUYQKBTH",
      "include_colab_link": true
    },
    "kernelspec": {
      "name": "python3",
      "display_name": "Python 3"
    },
    "language_info": {
      "name": "python"
    }
  },
  "cells": [
    {
      "cell_type": "markdown",
      "metadata": {
        "id": "view-in-github",
        "colab_type": "text"
      },
      "source": [
        "<a href=\"https://colab.research.google.com/github/GaetanAm/MASTER-ESILV/blob/main/Simulation_Methods/3_Black_Scholes_Call.ipynb\" target=\"_parent\"><img src=\"https://colab.research.google.com/assets/colab-badge.svg\" alt=\"Open In Colab\"/></a>"
      ]
    },
    {
      "cell_type": "markdown",
      "source": [
        "# 3 Black-Scholes Call"
      ],
      "metadata": {
        "id": "nn5I3FmLh1WS"
      }
    },
    {
      "cell_type": "code",
      "source": [
        "import numpy as np\n",
        "import math"
      ],
      "metadata": {
        "id": "dElThwZvvbwo"
      },
      "execution_count": 39,
      "outputs": []
    },
    {
      "cell_type": "code",
      "execution_count": 37,
      "metadata": {
        "id": "_V_P8jdlh0Vq"
      },
      "outputs": [],
      "source": [
        "# Function to simulate asset price S_T under Black-Scholes model\n",
        "def simulate_black_scholes(S0, r, sigma, T, N):\n",
        "    \"\"\"\n",
        "    Simulates the terminal asset price S_T using the Black-Scholes model.\n",
        "\n",
        "    Args:\n",
        "        S0 (float): Initial stock price.\n",
        "        r (float): Risk-free interest rate (annualized).\n",
        "        sigma (float): Volatility (annualized).\n",
        "        T (float): Time to maturity (in years).\n",
        "        N (int): Number of simulations.\n",
        "\n",
        "    Returns:\n",
        "        np.array: Simulated asset prices at time T.\n",
        "    \"\"\"\n",
        "    # Generate N standard normal variables for Brownian motion\n",
        "    W_T = np.sqrt(T) * np.random.randn(N)\n",
        "\n",
        "    # Compute the asset price at maturity using the Black-Scholes formula\n",
        "    S_T = S0 * np.exp((r - 0.5 * sigma**2) * T + sigma * W_T)\n",
        "\n",
        "    return S_T\n",
        "\n",
        "# Function to estimate the price of a European call option using Monte Carlo\n",
        "def price_call_monte_carlo(S0, K, r, sigma, T, N):\n",
        "    \"\"\"\n",
        "    Prices a European call option using Monte Carlo simulation.\n",
        "\n",
        "    Args:\n",
        "        S0 (float): Initial stock price.\n",
        "        K (float): Strike price.\n",
        "        r (float): Risk-free interest rate.\n",
        "        sigma (float): Volatility of the stock.\n",
        "        T (float): Time to maturity (in years).\n",
        "        N (int): Number of Monte Carlo simulations.\n",
        "\n",
        "    Returns:\n",
        "        float: Estimated option price.\n",
        "    \"\"\"\n",
        "    # Simulate asset prices at maturity\n",
        "    S_T = simulate_black_scholes(S0, r, sigma, T, N)\n",
        "\n",
        "    # Compute the option payoff at maturity\n",
        "    payoffs = np.maximum(S_T - K, 0)\n",
        "\n",
        "    # Compute the discounted expectation of the payoff\n",
        "    option_price = np.exp(-r * T) * np.mean(payoffs)\n",
        "\n",
        "    return option_price"
      ]
    },
    {
      "cell_type": "code",
      "source": [
        "# Parameters for the Monte Carlo simulation\n",
        "S0 = 100  # Initial stock price\n",
        "K = 100   # Strike price (ATM)\n",
        "r = 0.01  # Risk-free interest rate (1% per year)\n",
        "sigma = 0.2  # Volatility (20% per year)\n",
        "T = 6 / 12  # Time to maturity in years (6 months)\n",
        "N = 100000  # Number of Monte Carlo simulations\n",
        "\n",
        "# Compute the option price\n",
        "option_price = price_call_monte_carlo(S0, K, r, sigma, T, N)\n",
        "\n",
        "# Print the result\n",
        "print(f\"Estimated European Call Option Price: {option_price:.4f}\")"
      ],
      "metadata": {
        "id": "wFF1QFMiBLk7",
        "outputId": "4c358036-a3e0-40a0-a9f6-3cbf09aa9ada",
        "colab": {
          "base_uri": "https://localhost:8080/"
        }
      },
      "execution_count": 41,
      "outputs": [
        {
          "output_type": "stream",
          "name": "stdout",
          "text": [
            "Estimated European Call Option Price: 5.8663\n"
          ]
        }
      ]
    },
    {
      "cell_type": "code",
      "source": [
        "def price_call_monte_carlo_confidence(S0, K, r, sigma, T, N):\n",
        "    \"\"\"\n",
        "    Prices a European call option using Monte Carlo simulation and computes a 99% confidence interval.\n",
        "\n",
        "    Args:\n",
        "        S0 (float): Initial stock price.\n",
        "        K (float): Strike price.\n",
        "        r (float): Risk-free interest rate.\n",
        "        sigma (float): Volatility.\n",
        "        T (float): Time to maturity.\n",
        "        N (int): Number of Monte Carlo simulations.\n",
        "\n",
        "    Returns:\n",
        "        tuple: (Estimated option price, lower bound of confidence interval, upper bound of confidence interval)\n",
        "    \"\"\"\n",
        "    # Simulate asset prices at maturity\n",
        "    S_T = simulate_black_scholes(S0, r, sigma, T, N)\n",
        "\n",
        "    # Compute the call option payoffs\n",
        "    payoffs = np.maximum(S_T - K, 0)\n",
        "\n",
        "    # Compute the option price\n",
        "    option_price = np.exp(-r * T) * np.mean(payoffs)\n",
        "\n",
        "    # Compute standard error\n",
        "    std_error = np.std(payoffs) / np.sqrt(N)\n",
        "\n",
        "    # Compute confidence interval (99% level, z-score = 2.576)\n",
        "    z_alpha = 2.576\n",
        "    lower_bound = option_price - z_alpha * std_error\n",
        "    upper_bound = option_price + z_alpha * std_error\n",
        "\n",
        "    return option_price, lower_bound, upper_bound\n"
      ],
      "metadata": {
        "id": "2pkJIIYC07RL"
      },
      "execution_count": 38,
      "outputs": []
    },
    {
      "cell_type": "code",
      "source": [
        "def black_scholes_call(S0, K, r, sigma, T):\n",
        "    \"\"\"\n",
        "    Computes the price of a European call option using the Black-Scholes formula.\n",
        "\n",
        "    Args:\n",
        "        S0 (float): Initial stock price.\n",
        "        K (float): Strike price.\n",
        "        r (float): Risk-free interest rate.\n",
        "        sigma (float): Volatility.\n",
        "        T (float): Time to maturity.\n",
        "\n",
        "    Returns:\n",
        "        float: Exact price of the European call option.\n",
        "    \"\"\"\n",
        "    # Compute d1 and d2\n",
        "    d1 = (math.log(S0 / K) + (r + 0.5 * sigma ** 2) * T) / (sigma * math.sqrt(T))\n",
        "    d2 = d1 - sigma * math.sqrt(T)\n",
        "\n",
        "    # Compute option price using cumulative normal distribution\n",
        "    N_d1 = 0.5 * (1 + math.erf(d1 / math.sqrt(2)))\n",
        "    N_d2 = 0.5 * (1 + math.erf(d2 / math.sqrt(2)))\n",
        "\n",
        "    call_price = S0 * N_d1 - K * math.exp(-r * T) * N_d2\n",
        "\n",
        "    return call_price\n"
      ],
      "metadata": {
        "id": "Vw-5nPJL1BYb"
      },
      "execution_count": 40,
      "outputs": []
    }
  ]
}